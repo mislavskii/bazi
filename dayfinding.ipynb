{
 "cells": [
  {
   "cell_type": "markdown",
   "id": "91ff9993-e8da-4d6e-86ab-57879e90b804",
   "metadata": {},
   "source": [
    "# Finding Year, Month, Day Power Pairs for Chinese Horoscope \n",
    "\n",
    "currently for GMT+7 (Bangkok time)\n",
    "\n",
    "based on the teachings of <a href=\"https://www.facebook.com/MasFengShui\">Master Mas</a> "
   ]
  },
  {
   "cell_type": "code",
   "execution_count": 1,
   "id": "2629bdbd-7bab-4e77-8225-29fce8626f6a",
   "metadata": {},
   "outputs": [],
   "source": [
    "import datetime as dt"
   ]
  },
  {
   "cell_type": "markdown",
   "id": "90d46056-de89-418c-bce8-28e4402d2c2a",
   "metadata": {},
   "source": [
    "### Prerequisites"
   ]
  },
  {
   "cell_type": "markdown",
   "id": "c2b0aabc-3781-40dc-b2a3-891f377f9565",
   "metadata": {},
   "source": [
    "#### The 60 Paired Powers\n",
    "\n",
    "Extracting the names of Tai Sui deities from a text file obtained by some clandestine means and saving them neatly in another text file to work with further on."
   ]
  },
  {
   "cell_type": "code",
   "execution_count": 2,
   "id": "d735f521-710e-4372-8ca5-f420766950cc",
   "metadata": {
    "scrolled": true,
    "tags": []
   },
   "outputs": [],
   "source": [
    "# NEVER RUN THIS CELL AGAIN UNLESS pairs.txt FILE IS MISSING OR CORRUPTED!!! IF RUN AND IT WORKS, *CHECK_THE_ORDER_OF_PAIRS* AFTERWARDS!!!\n",
    "\n",
    "# with open('E:\\Learn\\อ.มาศ\\六十太歲星君.txt') as txt:\n",
    "#     lines = txt.readlines()\n",
    "\n",
    "# pairs = [line[:2] for line in lines if line.strip().endswith('太歲')]  # extracting the Tai Sui names = power pairs\n",
    "\n",
    "# with open('pairs.txt', 'w') as writer:  # saving the power pairs to file\n",
    "#   for pair in pairs:\n",
    "#       print(pair)\n",
    "#       writer.write(pair + '\\n')"
   ]
  },
  {
   "cell_type": "code",
   "execution_count": 33,
   "id": "120178e2-df6e-4704-98e1-81fa5186c0ac",
   "metadata": {
    "scrolled": true,
    "tags": []
   },
   "outputs": [
    {
     "name": "stdout",
     "output_type": "stream",
     "text": [
      "['甲子', '乙丑', '丙寅', '丁卯', '戊辰', '己巳', '庚午', '辛未', '壬申', '癸酉', '甲戌', '乙亥', '丙子', '丁丑', '戊寅', '己卯', '庚辰', '辛巳', '壬午', '癸未', '甲申', '乙酉', '丙戌', '丁亥', '戊子', '己丑', '庚寅', '辛卯', '壬辰', '癸巳', '甲午', '乙未', '丙申', '丁酉', '戊戌', '己亥', '庚子', '辛丑', '壬寅', '癸卯', '甲辰', '乙巳', '丙午', '丁未', '戊申', '己酉', '庚戌', '辛亥', '壬子', '癸丑', '甲寅', '乙卯', '丙辰', '丁巳', '戊午', '己未', '庚申', '辛酉', '壬戌', '癸亥']\n"
     ]
    }
   ],
   "source": [
    "with open('pairs.txt') as reader:  # reading the power pairs back from file\n",
    "    pairs = [line.strip() for line in reader.readlines()]\n",
    "    \n",
    "print(pairs)"
   ]
  },
  {
   "cell_type": "markdown",
   "id": "5c367be3-9712-46e4-98da-0415f0a4a4e3",
   "metadata": {},
   "source": [
    "#### The Zero Point in Time\n",
    "\n",
    "For this project, it is the moment of founding of Rattanakosin Kingdom, local time (GMT +7)"
   ]
  },
  {
   "cell_type": "code",
   "execution_count": 34,
   "id": "a46caee7-c6ee-4add-937b-f88a22d18fa1",
   "metadata": {},
   "outputs": [
    {
     "name": "stdout",
     "output_type": "stream",
     "text": [
      "1782-04-21 06:54:00\n"
     ]
    }
   ],
   "source": [
    "#  The zero point - foundation of Rattanakosin\n",
    "RoSo = dt.datetime(year=2325-543, \n",
    "                   month=4, \n",
    "                   day=21,\n",
    "                   hour=6,\n",
    "                   minute=54)\n",
    "\n",
    "print(RoSo)"
   ]
  },
  {
   "cell_type": "code",
   "execution_count": 5,
   "id": "74eae541-db41-4a8a-b5a1-c35ab70dc9e7",
   "metadata": {},
   "outputs": [
    {
     "data": {
      "text/plain": [
       "datetime.datetime(2022, 7, 27, 15, 58, 0, 979634)"
      ]
     },
     "execution_count": 5,
     "metadata": {},
     "output_type": "execute_result"
    }
   ],
   "source": [
    "present = dt.datetime.now()\n",
    "present"
   ]
  },
  {
   "cell_type": "markdown",
   "id": "ac3a9c35-66af-4a32-9a29-0e6ee9ef3c10",
   "metadata": {},
   "source": [
    "#### Duang at Zero\n",
    "\n",
    "as postulated by Master Mas in <a href=\"https://www.mebmarket.com/ebook-176515-%E0%B8%AE%E0%B8%A7%E0%B8%87%E0%B8%88%E0%B8%B8%E0%B9%89%E0%B8%A2%E0%B8%A3%E0%B8%B1%E0%B8%9A%E0%B9%82%E0%B8%8A%E0%B8%84-65\">อ.มาศ เคหาสน์ธรรม: ฮวงจุ้ยรับโชค 65,</a> p.36"
   ]
  },
  {
   "cell_type": "code",
   "execution_count": 6,
   "id": "b0cc96f7-b078-4258-93b8-1f67e6973955",
   "metadata": {},
   "outputs": [
    {
     "data": {
      "text/plain": [
       "(38, 40, 42, 27)"
      ]
     },
     "execution_count": 6,
     "metadata": {},
     "output_type": "execute_result"
    }
   ],
   "source": [
    "zero_duang = (pairs.index('壬寅'), pairs.index('甲辰'), pairs.index('丙午'), pairs.index('辛卯'))\n",
    "zero_duang  # year, month, day, watch"
   ]
  },
  {
   "cell_type": "code",
   "execution_count": 8,
   "id": "f1fdceab-7f0f-4cd5-bc57-c5037adbd205",
   "metadata": {},
   "outputs": [
    {
     "name": "stdout",
     "output_type": "stream",
     "text": [
      "year: \t 壬寅\n",
      "month: \t 甲辰\n",
      "day: \t 丙午\n",
      "watch: \t 辛卯\n"
     ]
    }
   ],
   "source": [
    "print('year:', '\\t', pairs[zero_year_index])\n",
    "print('month:', '\\t', pairs[zero_month_index])\n",
    "print('day:', '\\t', pairs[zero_day_index])\n",
    "print('watch:', '\\t', pairs[zero_watch_index])"
   ]
  },
  {
   "cell_type": "markdown",
   "id": "8faa55fe-f319-462a-93a3-4d7854a8755b",
   "metadata": {},
   "source": [
    "\n",
    "\n",
    "#### Test cases from Master Mas publications"
   ]
  },
  {
   "cell_type": "markdown",
   "id": "f1e720c5-bb58-43cd-9ad3-df56c1ec0854",
   "metadata": {},
   "source": [
    "1. **Touchstone duang to try everything first on**\n",
    "\n",
    "<img src=\"duang1.jpg\" width=10%>"
   ]
  },
  {
   "cell_type": "code",
   "execution_count": 9,
   "id": "45a11bec-05fc-4209-8f64-77ff76b496b1",
   "metadata": {},
   "outputs": [
    {
     "name": "stdout",
     "output_type": "stream",
     "text": [
      "1982-06-29 13:40:00 {'year': '壬戌', 'month': '丙午', 'day': '癸未', 'watch': '戊午'}\n"
     ]
    }
   ],
   "source": [
    "touchstone_params = {\n",
    "    'year': 2525-543, \n",
    "    'month': 6, \n",
    "    'day': 29,\n",
    "    'hour': 13,\n",
    "    'minute': 40\n",
    "}\n",
    "\n",
    "touchstone_timepoint = dt.datetime(*(touchstone_params.values()))\n",
    "\n",
    "\n",
    "\n",
    "touchstone_year_pair, touchstone_month_pair, touchstone_day_pair, touchstone_watch_pair = '壬戌', '丙午', '癸未', '戊午'\n",
    "touchstone_pairs = {\n",
    "    'year': touchstone_year_pair, 'month': touchstone_month_pair, 'day': touchstone_day_pair, 'watch': touchstone_watch_pair\n",
    "}\n",
    "print(touchstone_timepoint, touchstone_pairs)"
   ]
  },
  {
   "cell_type": "markdown",
   "id": "b441a95f-944d-4806-9aa4-0b28a16fa899",
   "metadata": {},
   "source": [
    "2. **Boss** (no time)\n",
    "\n",
    "<img src=\"boss.png\" width=20%>"
   ]
  },
  {
   "cell_type": "code",
   "execution_count": 10,
   "id": "9ce117e9-2e1a-435c-a087-9766fb0e5f85",
   "metadata": {},
   "outputs": [
    {
     "name": "stdout",
     "output_type": "stream",
     "text": [
      "1982-01-12 00:00:00 {'year': '壬戌', 'month': '辛丑', 'day': '乙未', 'watch': '戊寅'}\n"
     ]
    }
   ],
   "source": [
    "boss = dt.datetime(2525-543, 1, 12)\n",
    "boss_pairs = {\n",
    "    'year': '壬戌', 'month': '辛丑', 'day': '乙未', 'watch': '戊寅'\n",
    "}\n",
    "print(boss, boss_pairs)"
   ]
  },
  {
   "cell_type": "markdown",
   "id": "4d2f1ca3-800d-4dc1-ac2c-5b42a8c38d12",
   "metadata": {},
   "source": [
    "3. **Duang2**\n",
    "\n",
    "<img src=\"duang2.png\" width=20%>"
   ]
  },
  {
   "cell_type": "code",
   "execution_count": 11,
   "id": "c808ed6d-c436-473b-aef3-bf7107936f95",
   "metadata": {},
   "outputs": [
    {
     "name": "stdout",
     "output_type": "stream",
     "text": [
      "1955-10-28 22:00:00 {'year': '乙未', 'month': '丙戌', 'day': '壬戌', 'watch': '辛亥'}\n"
     ]
    }
   ],
   "source": [
    "duang2 = dt.datetime(2498-543, 10, 28, 22, 0)\n",
    "duang2_pairs = {\n",
    "    'year': '乙未', 'month': '丙戌', 'day': '壬戌', 'watch': '辛亥'\n",
    "}\n",
    "print(duang2, duang2_pairs)"
   ]
  },
  {
   "cell_type": "markdown",
   "id": "e377a967-0323-462e-861b-de959a964dc6",
   "metadata": {},
   "source": [
    "4. **Duang3** (date for this duang extracted from public source outside of the scope of Master Mas publications, no time available)\n",
    "\n",
    "<img src=\"duang3.png\" width=15%>"
   ]
  },
  {
   "cell_type": "code",
   "execution_count": 12,
   "id": "97db6960-b2b0-437b-b9dc-3f4f04d87d6f",
   "metadata": {},
   "outputs": [
    {
     "name": "stdout",
     "output_type": "stream",
     "text": [
      "1947-07-15 00:00:00 {'year': '丁亥', 'month': '丁未', 'day': '乙未', 'watch': '壬午'}\n"
     ]
    }
   ],
   "source": [
    "duang3 = dt.datetime(2490-543, 7, 15)\n",
    "duang3_pairs = {\n",
    "    'year': '丁亥', 'month': '丁未', 'day': '乙未', 'watch': '壬午'\n",
    "}\n",
    "print(duang3, duang3_pairs)"
   ]
  },
  {
   "cell_type": "markdown",
   "id": "b62361e2-430b-481f-a259-b86d150aa901",
   "metadata": {},
   "source": [
    "## BEGIN CALCULATIONS\n",
    "\n",
    "Calculating for standard calendar year as yet."
   ]
  },
  {
   "cell_type": "markdown",
   "id": "fb6321c3-5a2a-4ff2-acda-f1b72d87bed4",
   "metadata": {},
   "source": [
    "### Year\n",
    "\n",
    "index = RoSo.index + (target.year - RoSo.year) % 60 - (RoSo.index + (target.year - RoSo.year) % 60) > 60) * 60"
   ]
  },
  {
   "cell_type": "code",
   "execution_count": 13,
   "id": "95472a7d-5b12-49d8-a930-f2697df902f2",
   "metadata": {},
   "outputs": [],
   "source": [
    "def year_pair(timepoint):\n",
    "    their_year = timepoint.year\n",
    "    index = zero_year_index + ((their_year - RoSo.year) % 60) - int((zero_year_index + ((their_year - RoSo.year) % 60) > 59)) * 60\n",
    "    pair = pairs[index]\n",
    "    return pair"
   ]
  },
  {
   "cell_type": "markdown",
   "id": "f00c112f-e0b5-4732-bc2f-0d0407bf2d67",
   "metadata": {},
   "source": [
    "Trying on the touchstone"
   ]
  },
  {
   "cell_type": "code",
   "execution_count": 14,
   "id": "342d66c0-0fcb-4345-a018-5777519d1cba",
   "metadata": {},
   "outputs": [
    {
     "data": {
      "text/plain": [
       "('壬戌', '壬戌', True)"
      ]
     },
     "execution_count": 14,
     "metadata": {},
     "output_type": "execute_result"
    }
   ],
   "source": [
    "year_pair(touchstone_timepoint), touchstone_pairs['year'], year_pair(touchstone_timepoint) == touchstone_pairs['year']"
   ]
  },
  {
   "cell_type": "markdown",
   "id": "16cd8637-9385-4a41-90de-7a1cf70d5a7d",
   "metadata": {},
   "source": [
    "#### Test it\n",
    "\n",
    "1. By finding power pairs for random years and visually checking against published table like <a href=\"https://en.wikipedia.org/wiki/Sexagenary_cycle#1924%E2%80%932043\">this one</a> (or its <a href=\"pairs_table.html\">local copy</a>), without changing any other touchstone parameters."
   ]
  },
  {
   "cell_type": "code",
   "execution_count": 15,
   "id": "1b087a97-2e95-403c-a4e6-36d49fcbcfe0",
   "metadata": {},
   "outputs": [],
   "source": [
    "from random import randint, sample"
   ]
  },
  {
   "cell_type": "code",
   "execution_count": 16,
   "id": "1cb964e0-7aaa-466b-8ddd-16f789e86536",
   "metadata": {},
   "outputs": [],
   "source": [
    "def test_year(year):\n",
    "    data=dict(touchstone_params)\n",
    "    data['year'] = year\n",
    "    timepoint = dt.datetime(*(data.values()))\n",
    "    pair = year_pair(timepoint)  # this is where the function under test runs\n",
    "    print(year, \n",
    "          pair, \n",
    "          pairs.index(pair)+1  # pair number to also verify that the order of pairs has not been corrupted \n",
    "         )"
   ]
  },
  {
   "cell_type": "code",
   "execution_count": 17,
   "id": "17ac22c9-ee7a-479c-ac32-57f145638fad",
   "metadata": {},
   "outputs": [
    {
     "name": "stdout",
     "output_type": "stream",
     "text": [
      "1978 戊午 55\n"
     ]
    }
   ],
   "source": [
    "year = randint(1924, 2043)\n",
    "test_year(year)"
   ]
  },
  {
   "cell_type": "code",
   "execution_count": 18,
   "id": "8481769e-05da-487a-b6ff-0dc3224bb46f",
   "metadata": {},
   "outputs": [
    {
     "name": "stdout",
     "output_type": "stream",
     "text": [
      "1944 甲申 21\n",
      "1927 丁卯 4\n",
      "1982 壬戌 59\n",
      "1972 壬子 49\n",
      "2041 辛酉 58\n",
      "1984 甲子 1\n",
      "1978 戊午 55\n",
      "1957 丁酉 34\n",
      "1941 辛巳 18\n",
      "1924 甲子 1\n",
      "2019 己亥 36\n",
      "2037 丁巳 54\n",
      "2016 丙申 33\n",
      "1925 乙丑 2\n",
      "1934 甲戌 11\n",
      "1958 戊戌 35\n",
      "2005 乙酉 22\n"
     ]
    }
   ],
   "source": [
    "years = sample(range(1924, 2044), 17)\n",
    "for year in years:\n",
    "    test_year(year)"
   ]
  },
  {
   "cell_type": "code",
   "execution_count": 19,
   "id": "e078f3e8-f19c-4a11-9725-47370c37f3c2",
   "metadata": {},
   "outputs": [
    {
     "data": {
      "text/plain": [
       "({'year': 1982, 'month': 6, 'day': 29, 'hour': 13, 'minute': 40},\n",
       " datetime.datetime(1982, 6, 29, 13, 40))"
      ]
     },
     "execution_count": 19,
     "metadata": {},
     "output_type": "execute_result"
    }
   ],
   "source": [
    "# making sure that touchstone parameters remain intact\n",
    "touchstone_params, touchstone_timepoint"
   ]
  },
  {
   "cell_type": "markdown",
   "id": "dd80cf2d-56b2-4581-8ac7-9306b303b518",
   "metadata": {},
   "source": [
    "2. By checking the first and the last day of touchstone year:"
   ]
  },
  {
   "cell_type": "code",
   "execution_count": 20,
   "id": "80b83afd-919d-4422-a027-ab1575a55a3b",
   "metadata": {},
   "outputs": [
    {
     "data": {
      "text/plain": [
       "('壬戌', 1982)"
      ]
     },
     "execution_count": 20,
     "metadata": {},
     "output_type": "execute_result"
    }
   ],
   "source": [
    "touchstone_pairs['year'], touchstone_timepoint.year"
   ]
  },
  {
   "cell_type": "code",
   "execution_count": 21,
   "id": "541f22d1-fb30-4d11-b553-f3b4185cda69",
   "metadata": {},
   "outputs": [
    {
     "name": "stdout",
     "output_type": "stream",
     "text": [
      "1982-01-01 | 壬戌 | 壬戌 | True\n"
     ]
    }
   ],
   "source": [
    "testpoint = dt.datetime(touchstone_timepoint.year, 1, 1)\n",
    "print(testpoint.date(), year_pair(testpoint), touchstone_pairs['year'], year_pair(testpoint) == touchstone_pairs['year'], sep=' | ')"
   ]
  },
  {
   "cell_type": "code",
   "execution_count": 22,
   "id": "dadd17c1-4f5a-494b-aa9b-21c5e13e1214",
   "metadata": {},
   "outputs": [
    {
     "name": "stdout",
     "output_type": "stream",
     "text": [
      "1982-12-31 | 壬戌 | 壬戌 | True\n"
     ]
    }
   ],
   "source": [
    "testpoint = dt.datetime(touchstone_timepoint.year, 12, 31)\n",
    "print(testpoint.date(), year_pair(testpoint), touchstone_pairs['year'], year_pair(testpoint) == touchstone_pairs['year'], sep=' | ')"
   ]
  },
  {
   "cell_type": "markdown",
   "id": "d662c82b-c64b-4941-8e53-9c7a182c9fd0",
   "metadata": {},
   "source": [
    "### Month"
   ]
  },
  {
   "cell_type": "code",
   "execution_count": 23,
   "id": "eeed595e-d997-4e58-9f2c-0362a3ad44ac",
   "metadata": {},
   "outputs": [],
   "source": [
    "def month_pair(timepoint):\n",
    "    month_delta = (timepoint.year - RoSo.year) * 12 + (timepoint.month - RoSo.month)\n",
    "    index = zero_month_index + (month_delta % 60 - int((zero_month_index + month_delta % 60) > 59) * 60)  # automatically -60 if goes out of range\n",
    "    pair = pairs[index]\n",
    "    return pair"
   ]
  },
  {
   "cell_type": "markdown",
   "id": "1fb59c80-2aa7-4da0-848b-1d7cd9c834a4",
   "metadata": {},
   "source": [
    "Try on the touchstone"
   ]
  },
  {
   "cell_type": "code",
   "execution_count": 24,
   "id": "6d381089-a321-4161-b291-7c56a29e685c",
   "metadata": {},
   "outputs": [
    {
     "data": {
      "text/plain": [
       "('丙午', '丙午', True)"
      ]
     },
     "execution_count": 24,
     "metadata": {},
     "output_type": "execute_result"
    }
   ],
   "source": [
    "month_pair(touchstone_timepoint), touchstone_pairs['month'], month_pair(touchstone_timepoint) == touchstone_pairs['month']"
   ]
  },
  {
   "cell_type": "markdown",
   "id": "38b7bc0b-6136-4e56-80e4-738266b0fdbf",
   "metadata": {},
   "source": [
    "Check on boss duang"
   ]
  },
  {
   "cell_type": "code",
   "execution_count": 25,
   "id": "a42799cc-c6ec-4875-a59f-50057cbfe490",
   "metadata": {},
   "outputs": [
    {
     "data": {
      "text/plain": [
       "('辛丑', '辛丑', True)"
      ]
     },
     "execution_count": 25,
     "metadata": {},
     "output_type": "execute_result"
    }
   ],
   "source": [
    "month_pair(boss), boss_pairs['month'], month_pair(boss) == boss_pairs['month']"
   ]
  },
  {
   "cell_type": "markdown",
   "id": "9faf2f77-35d7-4d12-86da-cf82fda6e32e",
   "metadata": {},
   "source": [
    "### Day"
   ]
  },
  {
   "cell_type": "code",
   "execution_count": 26,
   "id": "19e1295a-8599-4ca3-9d26-232014a94296",
   "metadata": {},
   "outputs": [],
   "source": [
    "def day_pair(timepoint):\n",
    "    day_delta = (timepoint.date() - RoSo.date()).days  # taking only date to eliminate the shifting effect of the non-zero Rattanakosin zero TIME\n",
    "    index = zero_day_index + (day_delta % 60 - int((zero_day_index + day_delta % 60) > 59) * 60)  # automatically -60 if goes out of range\n",
    "    pair = pairs[index]\n",
    "    return pair"
   ]
  },
  {
   "cell_type": "code",
   "execution_count": 28,
   "id": "80de00c5-7cb5-4054-be35-b7f51e18444a",
   "metadata": {},
   "outputs": [],
   "source": [
    "def all_pairs(datetime):  # only three as yet, no watch\n",
    "    return year_pair(datetime), month_pair(datetime), day_pair(datetime)"
   ]
  },
  {
   "cell_type": "markdown",
   "id": "b2e38737-c774-4463-b4f8-ca2f551720a3",
   "metadata": {},
   "source": [
    "Try everything on the touchstone"
   ]
  },
  {
   "cell_type": "code",
   "execution_count": 29,
   "id": "22b29dad-ef85-42fa-9818-46098e119d61",
   "metadata": {},
   "outputs": [
    {
     "name": "stdout",
     "output_type": "stream",
     "text": [
      "('壬戌', '丙午', '癸未') ('壬戌', '丙午', '癸未') True\n"
     ]
    }
   ],
   "source": [
    "print(all_pairs(touchstone_timepoint), tuple(touchstone_pairs.values())[:3], all_pairs(touchstone_timepoint) == tuple(touchstone_pairs.values())[:3])"
   ]
  },
  {
   "cell_type": "markdown",
   "id": "91798afa-0f52-4101-acbd-5bf3a2788fad",
   "metadata": {},
   "source": [
    "### Test everything"
   ]
  },
  {
   "cell_type": "markdown",
   "id": "6b02dbad-6f29-403b-aa11-bab04980babc",
   "metadata": {},
   "source": [
    "Check everything on boss duang"
   ]
  },
  {
   "cell_type": "code",
   "execution_count": 30,
   "id": "4e9490ef-9b70-44d3-bc99-9e866b11ff70",
   "metadata": {},
   "outputs": [
    {
     "name": "stdout",
     "output_type": "stream",
     "text": [
      "('壬戌', '辛丑', '乙未') ('壬戌', '辛丑', '乙未') True\n"
     ]
    }
   ],
   "source": [
    "print(all_pairs(boss), tuple(boss_pairs.values())[:3], all_pairs(boss) == tuple(boss_pairs.values())[:3])"
   ]
  },
  {
   "cell_type": "markdown",
   "id": "9af23a9d-6d3e-48a8-b2a7-67ca04c1478e",
   "metadata": {},
   "source": [
    "Check everything on yet another duang2.png"
   ]
  },
  {
   "cell_type": "code",
   "execution_count": 31,
   "id": "b7cecc4a-2d12-4c9e-bfd9-986b4112bf1c",
   "metadata": {},
   "outputs": [
    {
     "name": "stdout",
     "output_type": "stream",
     "text": [
      "('乙未', '丙戌', '壬戌') ('乙未', '丙戌', '壬戌') True\n"
     ]
    }
   ],
   "source": [
    "print(all_pairs(duang2), tuple(duang2_pairs.values())[:3], all_pairs(duang2) == tuple(duang2_pairs.values())[:3])"
   ]
  },
  {
   "cell_type": "markdown",
   "id": "5edd3e78-a946-4314-8829-428f49c2e8a6",
   "metadata": {},
   "source": [
    "Check everything on yet another duang3.png. "
   ]
  },
  {
   "cell_type": "code",
   "execution_count": 32,
   "id": "294ec132-8be0-4c7b-bd73-a9620ebdc8de",
   "metadata": {},
   "outputs": [
    {
     "name": "stdout",
     "output_type": "stream",
     "text": [
      "('丁亥', '丁未', '乙未') ('丁亥', '丁未', '乙未') True\n"
     ]
    }
   ],
   "source": [
    "print(all_pairs(duang3), tuple(duang3_pairs.values())[:3], all_pairs(duang3) == tuple(duang3_pairs.values())[:3])"
   ]
  },
  {
   "cell_type": "code",
   "execution_count": null,
   "id": "04bc29e2-a7a8-4ad6-bb4a-f12871e76428",
   "metadata": {},
   "outputs": [],
   "source": []
  }
 ],
 "metadata": {
  "kernelspec": {
   "display_name": "Python 3 (ipykernel)",
   "language": "python",
   "name": "python3"
  },
  "language_info": {
   "codemirror_mode": {
    "name": "ipython",
    "version": 3
   },
   "file_extension": ".py",
   "mimetype": "text/x-python",
   "name": "python",
   "nbconvert_exporter": "python",
   "pygments_lexer": "ipython3",
   "version": "3.9.7"
  }
 },
 "nbformat": 4,
 "nbformat_minor": 5
}
