{
 "cells": [
  {
   "cell_type": "code",
   "execution_count": 3,
   "id": "2629bdbd-7bab-4e77-8225-29fce8626f6a",
   "metadata": {},
   "outputs": [],
   "source": [
    "import datetime as dt"
   ]
  },
  {
   "cell_type": "markdown",
   "id": "90d46056-de89-418c-bce8-28e4402d2c2a",
   "metadata": {},
   "source": [
    "### Prerequisites"
   ]
  },
  {
   "cell_type": "markdown",
   "id": "c2b0aabc-3781-40dc-b2a3-891f377f9565",
   "metadata": {},
   "source": [
    "#### The 60 Paired Powers\n",
    "\n",
    "Extracting the names of Tai Sui deities from a text file obtained by some clandestine means and saving them neatly in another text file to work with further on."
   ]
  },
  {
   "cell_type": "code",
   "execution_count": 13,
   "id": "d735f521-710e-4372-8ca5-f420766950cc",
   "metadata": {
    "scrolled": true,
    "tags": []
   },
   "outputs": [],
   "source": [
    "with open('E:\\Learn\\อ.มาศ\\六十太歲星君.txt') as txt:\n",
    "    lines = txt.readlines()\n",
    "\n",
    "lines\n",
    "\n",
    "pairs = [line[:2] for line in lines if line.strip().endswith('太歲')]  # extracting the Tai Sui names = power pairs\n",
    "\n",
    "# NEVER RUN THIS PART AGAIN UNLESS pairs.txt FILE IS MISSING OR CORRUPTED!!! IF RUN, *CHECK_THE_ORDER_OF_PAIRS* AFTERWARDS!!!\n",
    "\n",
    "# with open('pairs.txt', 'w') as writer:  # saving the power pairs to file\n",
    "#   for pair in pairs:\n",
    "#       print(pair)\n",
    "#       writer.write(pair + '\\n')"
   ]
  },
  {
   "cell_type": "code",
   "execution_count": 17,
   "id": "120178e2-df6e-4704-98e1-81fa5186c0ac",
   "metadata": {
    "scrolled": true,
    "tags": []
   },
   "outputs": [
    {
     "data": {
      "text/plain": [
       "['甲子',\n",
       " '乙丑',\n",
       " '丙寅',\n",
       " '丁卯',\n",
       " '戊辰',\n",
       " '己巳',\n",
       " '庚午',\n",
       " '辛未',\n",
       " '壬申',\n",
       " '癸酉',\n",
       " '甲戌',\n",
       " '乙亥',\n",
       " '丙子',\n",
       " '丁丑',\n",
       " '戊寅',\n",
       " '己卯',\n",
       " '庚辰',\n",
       " '辛巳',\n",
       " '壬午',\n",
       " '癸未',\n",
       " '甲申',\n",
       " '乙酉',\n",
       " '丙戌',\n",
       " '丁亥',\n",
       " '戊子',\n",
       " '己丑',\n",
       " '庚寅',\n",
       " '辛卯',\n",
       " '壬辰',\n",
       " '癸巳',\n",
       " '甲午',\n",
       " '乙未',\n",
       " '丙申',\n",
       " '丁酉',\n",
       " '戊戌',\n",
       " '己亥',\n",
       " '庚子',\n",
       " '辛丑',\n",
       " '壬寅',\n",
       " '癸卯',\n",
       " '甲辰',\n",
       " '乙巳',\n",
       " '丙午',\n",
       " '丁未',\n",
       " '戊申',\n",
       " '己酉',\n",
       " '庚戌',\n",
       " '辛亥',\n",
       " '壬子',\n",
       " '癸丑',\n",
       " '甲寅',\n",
       " '乙卯',\n",
       " '丙辰',\n",
       " '丁巳',\n",
       " '戊午',\n",
       " '己未',\n",
       " '庚申',\n",
       " '辛酉',\n",
       " '壬戌',\n",
       " '癸亥']"
      ]
     },
     "execution_count": 17,
     "metadata": {},
     "output_type": "execute_result"
    }
   ],
   "source": [
    "with open('pairs.txt') as reader:  # reading the power pairs back from file\n",
    "    pairs = [line.strip() for line in reader.readlines()]\n",
    "    \n",
    "pairs"
   ]
  },
  {
   "cell_type": "markdown",
   "id": "5c367be3-9712-46e4-98da-0415f0a4a4e3",
   "metadata": {},
   "source": [
    "#### The Zero Point in Time"
   ]
  },
  {
   "cell_type": "code",
   "execution_count": 108,
   "id": "a46caee7-c6ee-4add-937b-f88a22d18fa1",
   "metadata": {},
   "outputs": [
    {
     "data": {
      "text/plain": [
       "datetime.datetime(1782, 4, 21, 6, 54)"
      ]
     },
     "execution_count": 108,
     "metadata": {},
     "output_type": "execute_result"
    }
   ],
   "source": [
    "#  The zero point - foundation of Rattanakosin\n",
    "RoSo = dt.datetime(year=2325-543, \n",
    "                   month=4, \n",
    "                   day=21,\n",
    "                   hour=6,\n",
    "                   minute=54)\n",
    "\n",
    "RoSo"
   ]
  },
  {
   "cell_type": "code",
   "execution_count": 20,
   "id": "74eae541-db41-4a8a-b5a1-c35ab70dc9e7",
   "metadata": {},
   "outputs": [
    {
     "data": {
      "text/plain": [
       "datetime.datetime(2022, 7, 25, 19, 41, 49, 472880)"
      ]
     },
     "execution_count": 20,
     "metadata": {},
     "output_type": "execute_result"
    }
   ],
   "source": [
    "present = dt.datetime.now()\n",
    "present"
   ]
  },
  {
   "cell_type": "markdown",
   "id": "ac3a9c35-66af-4a32-9a29-0e6ee9ef3c10",
   "metadata": {},
   "source": [
    "#### Duang at Zero"
   ]
  },
  {
   "cell_type": "code",
   "execution_count": 21,
   "id": "b0cc96f7-b078-4258-93b8-1f67e6973955",
   "metadata": {},
   "outputs": [
    {
     "data": {
      "text/plain": [
       "(38, 40, 42, 27)"
      ]
     },
     "execution_count": 21,
     "metadata": {},
     "output_type": "execute_result"
    }
   ],
   "source": [
    "zero_duang = (pairs.index('壬寅'), pairs.index('甲辰'), pairs.index('丙午'), pairs.index('辛卯'))\n",
    "zero_duang  # year, month, day, yarm"
   ]
  },
  {
   "cell_type": "code",
   "execution_count": 98,
   "id": "d6c414a4-53e1-48e1-9488-298475876dcc",
   "metadata": {
    "tags": []
   },
   "outputs": [
    {
     "data": {
      "text/plain": [
       "38"
      ]
     },
     "execution_count": 98,
     "metadata": {},
     "output_type": "execute_result"
    }
   ],
   "source": [
    "zero_year, zero_month, zero_day, zero_yarm = zero_duang\n",
    "zero_year"
   ]
  },
  {
   "cell_type": "code",
   "execution_count": 109,
   "id": "f1fdceab-7f0f-4cd5-bc57-c5037adbd205",
   "metadata": {},
   "outputs": [
    {
     "name": "stdout",
     "output_type": "stream",
     "text": [
      "year: 壬寅\n",
      "month: 甲辰\n",
      "day: 丙午\n",
      "yarm: 辛卯\n"
     ]
    }
   ],
   "source": [
    "print('year:', pairs[zero_year])\n",
    "print('month:', pairs[zero_month])\n",
    "print('day:', pairs[zero_day])\n",
    "print('yarm:', pairs[zero_yarm])"
   ]
  },
  {
   "cell_type": "markdown",
   "id": "127845c7-19c9-41ab-aeba-bf56e0386fb8",
   "metadata": {},
   "source": [
    "## BEGIN CALCULATIONS"
   ]
  },
  {
   "cell_type": "markdown",
   "id": "c09b6db2-2cd5-42d3-980a-a593289aff6e",
   "metadata": {},
   "source": [
    "Setting the touchstone duang timepoint (duang1.jpg)"
   ]
  },
  {
   "cell_type": "code",
   "execution_count": 164,
   "id": "5cb00bff-8711-44c8-81e2-97ba89509e42",
   "metadata": {},
   "outputs": [
    {
     "data": {
      "text/plain": [
       "datetime.datetime(1982, 6, 29, 13, 40)"
      ]
     },
     "execution_count": 164,
     "metadata": {},
     "output_type": "execute_result"
    }
   ],
   "source": [
    "touchstone_params = {'year': 2525-543, \n",
    "                      'month': 6, \n",
    "                      'day': 29,\n",
    "                      'hour': 13,\n",
    "                      'minute': 40}\n",
    "\n",
    "timepoint = dt.datetime(*(touchstone_params.values()))\n",
    "\n",
    "timepoint"
   ]
  },
  {
   "cell_type": "code",
   "execution_count": 129,
   "id": "df01c972-d5e9-413d-a602-3ab3099a682b",
   "metadata": {},
   "outputs": [],
   "source": [
    "touchstone_year, touchstone_month, touchstone_day, touchstone_yarm = '壬戌', '丙午', '癸未', '戊午'"
   ]
  },
  {
   "cell_type": "markdown",
   "id": "fb6321c3-5a2a-4ff2-acda-f1b72d87bed4",
   "metadata": {},
   "source": [
    "### Year\n",
    "\n",
    "index = RoSo.index + (target.year - RoSo.year) % 60 - (RoSo.index + (target.year - RoSo.year) % 60) > 60) * 60"
   ]
  },
  {
   "cell_type": "code",
   "execution_count": 124,
   "id": "95472a7d-5b12-49d8-a930-f2697df902f2",
   "metadata": {},
   "outputs": [],
   "source": [
    "def year_pair(timepoint):\n",
    "    their_year = timepoint.year\n",
    "    index = zero_year + ((their_year - RoSo.year) % 60) - int((zero_year + ((their_year - RoSo.year) % 60) > 59)) * 60\n",
    "    pair = pairs[index]\n",
    "    return pair"
   ]
  },
  {
   "cell_type": "code",
   "execution_count": 125,
   "id": "4508d6d6-af88-492c-b963-922df1d5de20",
   "metadata": {},
   "outputs": [
    {
     "data": {
      "text/plain": [
       "'壬戌'"
      ]
     },
     "execution_count": 125,
     "metadata": {},
     "output_type": "execute_result"
    }
   ],
   "source": [
    "year_pair(timepoint)"
   ]
  },
  {
   "cell_type": "code",
   "execution_count": 130,
   "id": "1b02b270-fbec-4069-ac16-9d88e6300fa7",
   "metadata": {},
   "outputs": [
    {
     "data": {
      "text/plain": [
       "True"
      ]
     },
     "execution_count": 130,
     "metadata": {},
     "output_type": "execute_result"
    }
   ],
   "source": [
    "year_pair(timepoint) == touchstone_year"
   ]
  },
  {
   "cell_type": "markdown",
   "id": "16cd8637-9385-4a41-90de-7a1cf70d5a7d",
   "metadata": {},
   "source": [
    "#### Test it"
   ]
  },
  {
   "cell_type": "code",
   "execution_count": 104,
   "id": "1b087a97-2e95-403c-a4e6-36d49fcbcfe0",
   "metadata": {},
   "outputs": [],
   "source": [
    "from random import randint, sample"
   ]
  },
  {
   "cell_type": "code",
   "execution_count": 169,
   "id": "1cb964e0-7aaa-466b-8ddd-16f789e86536",
   "metadata": {},
   "outputs": [],
   "source": [
    "def test_year(year):\n",
    "    data=dict(touchstone_params)\n",
    "    data['year'] = year\n",
    "    timepoint = dt.datetime(*(data.values()))\n",
    "    print(year, year_pair(timepoint))"
   ]
  },
  {
   "cell_type": "code",
   "execution_count": 170,
   "id": "17ac22c9-ee7a-479c-ac32-57f145638fad",
   "metadata": {},
   "outputs": [
    {
     "name": "stdout",
     "output_type": "stream",
     "text": [
      "1938 戊寅\n"
     ]
    }
   ],
   "source": [
    "year = randint(1924, 2043)\n",
    "test_year(year)"
   ]
  },
  {
   "cell_type": "code",
   "execution_count": 172,
   "id": "8481769e-05da-487a-b6ff-0dc3224bb46f",
   "metadata": {},
   "outputs": [
    {
     "name": "stdout",
     "output_type": "stream",
     "text": [
      "2002 壬午\n",
      "1972 壬子\n",
      "2000 庚辰\n",
      "1969 己酉\n",
      "1925 乙丑\n",
      "1994 甲戌\n",
      "2011 辛卯\n",
      "1975 乙卯\n",
      "2040 庚申\n",
      "2013 癸巳\n",
      "1987 丁卯\n",
      "1933 癸酉\n",
      "2019 己亥\n",
      "1988 戊辰\n",
      "1957 丁酉\n",
      "1984 甲子\n",
      "1974 甲寅\n"
     ]
    }
   ],
   "source": [
    "years = sample(range(1924, 2044), 17)\n",
    "for year in years:\n",
    "    test_year(year)"
   ]
  },
  {
   "cell_type": "code",
   "execution_count": 174,
   "id": "e078f3e8-f19c-4a11-9725-47370c37f3c2",
   "metadata": {},
   "outputs": [
    {
     "data": {
      "text/plain": [
       "({'year': 1982, 'month': 6, 'day': 29, 'hour': 13, 'minute': 40},\n",
       " datetime.datetime(1982, 6, 29, 13, 40))"
      ]
     },
     "execution_count": 174,
     "metadata": {},
     "output_type": "execute_result"
    }
   ],
   "source": [
    "touchstone_params, timepoint"
   ]
  },
  {
   "cell_type": "markdown",
   "id": "d662c82b-c64b-4941-8e53-9c7a182c9fd0",
   "metadata": {},
   "source": [
    "### Month"
   ]
  },
  {
   "cell_type": "code",
   "execution_count": 186,
   "id": "eeed595e-d997-4e58-9f2c-0362a3ad44ac",
   "metadata": {},
   "outputs": [],
   "source": [
    "def month_pair(timepoint):\n",
    "    month_delta = (timepoint.year - RoSo.year) * 12 + (timepoint.month - RoSo.month)\n",
    "    # print(month_delta)\n",
    "    index = zero_month + (month_delta % 60 - int((zero_month + month_delta % 60) > 59) * 60)\n",
    "    # print(index)\n",
    "    pair = pairs[index]\n",
    "    return pair"
   ]
  },
  {
   "cell_type": "code",
   "execution_count": 187,
   "id": "6d381089-a321-4161-b291-7c56a29e685c",
   "metadata": {},
   "outputs": [
    {
     "data": {
      "text/plain": [
       "'丙午'"
      ]
     },
     "execution_count": 187,
     "metadata": {},
     "output_type": "execute_result"
    }
   ],
   "source": [
    "month_pair(timepoint)"
   ]
  },
  {
   "cell_type": "code",
   "execution_count": 188,
   "id": "f208cc8e-c112-453c-8a47-845e28d2ff38",
   "metadata": {},
   "outputs": [
    {
     "data": {
      "text/plain": [
       "True"
      ]
     },
     "execution_count": 188,
     "metadata": {},
     "output_type": "execute_result"
    }
   ],
   "source": [
    "month_pair(timepoint) == touchstone_month"
   ]
  },
  {
   "cell_type": "code",
   "execution_count": 191,
   "id": "9ce117e9-2e1a-435c-a087-9766fb0e5f85",
   "metadata": {},
   "outputs": [
    {
     "data": {
      "text/plain": [
       "datetime.datetime(1982, 1, 12, 0, 0)"
      ]
     },
     "execution_count": 191,
     "metadata": {},
     "output_type": "execute_result"
    }
   ],
   "source": [
    "# check on another duang\n",
    "boss = dt.datetime(1982, 1, 12)\n",
    "boss"
   ]
  },
  {
   "cell_type": "code",
   "execution_count": 192,
   "id": "a42799cc-c6ec-4875-a59f-50057cbfe490",
   "metadata": {},
   "outputs": [
    {
     "data": {
      "text/plain": [
       "'辛丑'"
      ]
     },
     "execution_count": 192,
     "metadata": {},
     "output_type": "execute_result"
    }
   ],
   "source": [
    "month_pair(boss)"
   ]
  },
  {
   "cell_type": "code",
   "execution_count": 190,
   "id": "4733b857-c802-4e04-93f5-613aae3f8ffd",
   "metadata": {},
   "outputs": [
    {
     "data": {
      "text/plain": [
       "'1982-01-12 13:40:00'"
      ]
     },
     "execution_count": 190,
     "metadata": {},
     "output_type": "execute_result"
    }
   ],
   "source": [
    "str(boss)"
   ]
  },
  {
   "cell_type": "code",
   "execution_count": null,
   "id": "bc2c0d1c-1360-4ac5-8d92-2e299f5e4300",
   "metadata": {},
   "outputs": [],
   "source": []
  }
 ],
 "metadata": {
  "kernelspec": {
   "display_name": "Python 3 (ipykernel)",
   "language": "python",
   "name": "python3"
  },
  "language_info": {
   "codemirror_mode": {
    "name": "ipython",
    "version": 3
   },
   "file_extension": ".py",
   "mimetype": "text/x-python",
   "name": "python",
   "nbconvert_exporter": "python",
   "pygments_lexer": "ipython3",
   "version": "3.9.7"
  }
 },
 "nbformat": 4,
 "nbformat_minor": 5
}
