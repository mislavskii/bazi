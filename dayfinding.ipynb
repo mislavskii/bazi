{
 "cells": [
  {
   "cell_type": "code",
   "execution_count": 245,
   "id": "2629bdbd-7bab-4e77-8225-29fce8626f6a",
   "metadata": {},
   "outputs": [],
   "source": [
    "import datetime as dt"
   ]
  },
  {
   "cell_type": "markdown",
   "id": "90d46056-de89-418c-bce8-28e4402d2c2a",
   "metadata": {},
   "source": [
    "### Prerequisites"
   ]
  },
  {
   "cell_type": "markdown",
   "id": "c2b0aabc-3781-40dc-b2a3-891f377f9565",
   "metadata": {},
   "source": [
    "#### The 60 Paired Powers\n",
    "\n",
    "Extracting the names of Tai Sui deities from a text file obtained by some clandestine means and saving them neatly in another text file to work with further on."
   ]
  },
  {
   "cell_type": "code",
   "execution_count": 246,
   "id": "d735f521-710e-4372-8ca5-f420766950cc",
   "metadata": {
    "scrolled": true,
    "tags": []
   },
   "outputs": [],
   "source": [
    "# NEVER RUN THIS CELL AGAIN UNLESS pairs.txt FILE IS MISSING OR CORRUPTED!!! IF RUN AND IT WORKS, *CHECK_THE_ORDER_OF_PAIRS* AFTERWARDS!!!\n",
    "\n",
    "# with open('E:\\Learn\\อ.มาศ\\六十太歲星君.txt') as txt:\n",
    "#     lines = txt.readlines()\n",
    "\n",
    "# pairs = [line[:2] for line in lines if line.strip().endswith('太歲')]  # extracting the Tai Sui names = power pairs\n",
    "\n",
    "# with open('pairs.txt', 'w') as writer:  # saving the power pairs to file\n",
    "#   for pair in pairs:\n",
    "#       print(pair)\n",
    "#       writer.write(pair + '\\n')"
   ]
  },
  {
   "cell_type": "code",
   "execution_count": 247,
   "id": "120178e2-df6e-4704-98e1-81fa5186c0ac",
   "metadata": {
    "scrolled": true,
    "tags": []
   },
   "outputs": [
    {
     "data": {
      "text/plain": [
       "['甲子',\n",
       " '乙丑',\n",
       " '丙寅',\n",
       " '丁卯',\n",
       " '戊辰',\n",
       " '己巳',\n",
       " '庚午',\n",
       " '辛未',\n",
       " '壬申',\n",
       " '癸酉',\n",
       " '甲戌',\n",
       " '乙亥',\n",
       " '丙子',\n",
       " '丁丑',\n",
       " '戊寅',\n",
       " '己卯',\n",
       " '庚辰',\n",
       " '辛巳',\n",
       " '壬午',\n",
       " '癸未',\n",
       " '甲申',\n",
       " '乙酉',\n",
       " '丙戌',\n",
       " '丁亥',\n",
       " '戊子',\n",
       " '己丑',\n",
       " '庚寅',\n",
       " '辛卯',\n",
       " '壬辰',\n",
       " '癸巳',\n",
       " '甲午',\n",
       " '乙未',\n",
       " '丙申',\n",
       " '丁酉',\n",
       " '戊戌',\n",
       " '己亥',\n",
       " '庚子',\n",
       " '辛丑',\n",
       " '壬寅',\n",
       " '癸卯',\n",
       " '甲辰',\n",
       " '乙巳',\n",
       " '丙午',\n",
       " '丁未',\n",
       " '戊申',\n",
       " '己酉',\n",
       " '庚戌',\n",
       " '辛亥',\n",
       " '壬子',\n",
       " '癸丑',\n",
       " '甲寅',\n",
       " '乙卯',\n",
       " '丙辰',\n",
       " '丁巳',\n",
       " '戊午',\n",
       " '己未',\n",
       " '庚申',\n",
       " '辛酉',\n",
       " '壬戌',\n",
       " '癸亥']"
      ]
     },
     "execution_count": 247,
     "metadata": {},
     "output_type": "execute_result"
    }
   ],
   "source": [
    "with open('pairs.txt') as reader:  # reading the power pairs back from file\n",
    "    pairs = [line.strip() for line in reader.readlines()]\n",
    "    \n",
    "pairs"
   ]
  },
  {
   "cell_type": "markdown",
   "id": "5c367be3-9712-46e4-98da-0415f0a4a4e3",
   "metadata": {},
   "source": [
    "#### The Zero Point in Time\n",
    "\n",
    "For this project, it is the moment of founding of Rattanakosin Kingdom, local time (GMT +7)"
   ]
  },
  {
   "cell_type": "code",
   "execution_count": 248,
   "id": "a46caee7-c6ee-4add-937b-f88a22d18fa1",
   "metadata": {},
   "outputs": [
    {
     "data": {
      "text/plain": [
       "datetime.datetime(1782, 4, 21, 6, 54)"
      ]
     },
     "execution_count": 248,
     "metadata": {},
     "output_type": "execute_result"
    }
   ],
   "source": [
    "#  The zero point - foundation of Rattanakosin\n",
    "RoSo = dt.datetime(year=2325-543, \n",
    "                   month=4, \n",
    "                   day=21,\n",
    "                   hour=6,\n",
    "                   minute=54)\n",
    "\n",
    "RoSo"
   ]
  },
  {
   "cell_type": "code",
   "execution_count": 249,
   "id": "74eae541-db41-4a8a-b5a1-c35ab70dc9e7",
   "metadata": {},
   "outputs": [
    {
     "data": {
      "text/plain": [
       "datetime.datetime(2022, 7, 26, 14, 47, 40, 903687)"
      ]
     },
     "execution_count": 249,
     "metadata": {},
     "output_type": "execute_result"
    }
   ],
   "source": [
    "present = dt.datetime.now()\n",
    "present"
   ]
  },
  {
   "cell_type": "markdown",
   "id": "ac3a9c35-66af-4a32-9a29-0e6ee9ef3c10",
   "metadata": {},
   "source": [
    "#### Duang at Zero\n",
    "\n",
    "as it appears in <a href=\"https://www.mebmarket.com/ebook-176515-%E0%B8%AE%E0%B8%A7%E0%B8%87%E0%B8%88%E0%B8%B8%E0%B9%89%E0%B8%A2%E0%B8%A3%E0%B8%B1%E0%B8%9A%E0%B9%82%E0%B8%8A%E0%B8%84-65\">อ.มาศ เคหาสน์ธรรม: ฮวงจุ้ยรับโชค 65,</a> p.36"
   ]
  },
  {
   "cell_type": "code",
   "execution_count": 250,
   "id": "b0cc96f7-b078-4258-93b8-1f67e6973955",
   "metadata": {},
   "outputs": [
    {
     "data": {
      "text/plain": [
       "(38, 40, 42, 27)"
      ]
     },
     "execution_count": 250,
     "metadata": {},
     "output_type": "execute_result"
    }
   ],
   "source": [
    "zero_duang = (pairs.index('壬寅'), pairs.index('甲辰'), pairs.index('丙午'), pairs.index('辛卯'))\n",
    "zero_duang  # year, month, day, yarm"
   ]
  },
  {
   "cell_type": "code",
   "execution_count": 251,
   "id": "d6c414a4-53e1-48e1-9488-298475876dcc",
   "metadata": {
    "tags": []
   },
   "outputs": [
    {
     "data": {
      "text/plain": [
       "38"
      ]
     },
     "execution_count": 251,
     "metadata": {},
     "output_type": "execute_result"
    }
   ],
   "source": [
    "zero_year, zero_month, zero_day, zero_yarm = zero_duang\n",
    "zero_year"
   ]
  },
  {
   "cell_type": "code",
   "execution_count": 252,
   "id": "f1fdceab-7f0f-4cd5-bc57-c5037adbd205",
   "metadata": {},
   "outputs": [
    {
     "name": "stdout",
     "output_type": "stream",
     "text": [
      "year: 壬寅\n",
      "month: 甲辰\n",
      "day: 丙午\n",
      "yarm: 辛卯\n"
     ]
    }
   ],
   "source": [
    "print('year:', pairs[zero_year])\n",
    "print('month:', pairs[zero_month])\n",
    "print('day:', pairs[zero_day])\n",
    "print('yarm:', pairs[zero_yarm])"
   ]
  },
  {
   "cell_type": "markdown",
   "id": "127845c7-19c9-41ab-aeba-bf56e0386fb8",
   "metadata": {},
   "source": [
    "## BEGIN CALCULATIONS"
   ]
  },
  {
   "cell_type": "markdown",
   "id": "c09b6db2-2cd5-42d3-980a-a593289aff6e",
   "metadata": {},
   "source": [
    "Setting the touchstone duang timepoint (duang1.jpg). Calculating for standard calendar year as yet."
   ]
  },
  {
   "cell_type": "code",
   "execution_count": 253,
   "id": "5cb00bff-8711-44c8-81e2-97ba89509e42",
   "metadata": {},
   "outputs": [
    {
     "data": {
      "text/plain": [
       "datetime.datetime(1982, 6, 29, 13, 40)"
      ]
     },
     "execution_count": 253,
     "metadata": {},
     "output_type": "execute_result"
    }
   ],
   "source": [
    "touchstone_params = {'year': 2525-543, \n",
    "                      'month': 6, \n",
    "                      'day': 29,\n",
    "                      'hour': 13,\n",
    "                      'minute': 40}\n",
    "\n",
    "timepoint = dt.datetime(*(touchstone_params.values()))\n",
    "\n",
    "timepoint"
   ]
  },
  {
   "cell_type": "code",
   "execution_count": 254,
   "id": "df01c972-d5e9-413d-a602-3ab3099a682b",
   "metadata": {},
   "outputs": [],
   "source": [
    "touchstone_year, touchstone_month, touchstone_day, touchstone_yarm = '壬戌', '丙午', '癸未', '戊午'"
   ]
  },
  {
   "cell_type": "markdown",
   "id": "fb6321c3-5a2a-4ff2-acda-f1b72d87bed4",
   "metadata": {},
   "source": [
    "### Year\n",
    "\n",
    "index = RoSo.index + (target.year - RoSo.year) % 60 - (RoSo.index + (target.year - RoSo.year) % 60) > 60) * 60"
   ]
  },
  {
   "cell_type": "code",
   "execution_count": 255,
   "id": "95472a7d-5b12-49d8-a930-f2697df902f2",
   "metadata": {},
   "outputs": [],
   "source": [
    "def year_pair(timepoint):\n",
    "    their_year = timepoint.year\n",
    "    index = zero_year + ((their_year - RoSo.year) % 60) - int((zero_year + ((their_year - RoSo.year) % 60) > 59)) * 60\n",
    "    pair = pairs[index]\n",
    "    return pair"
   ]
  },
  {
   "cell_type": "code",
   "execution_count": 256,
   "id": "4508d6d6-af88-492c-b963-922df1d5de20",
   "metadata": {},
   "outputs": [
    {
     "data": {
      "text/plain": [
       "'壬戌'"
      ]
     },
     "execution_count": 256,
     "metadata": {},
     "output_type": "execute_result"
    }
   ],
   "source": [
    "year_pair(timepoint)"
   ]
  },
  {
   "cell_type": "code",
   "execution_count": 257,
   "id": "1b02b270-fbec-4069-ac16-9d88e6300fa7",
   "metadata": {},
   "outputs": [
    {
     "data": {
      "text/plain": [
       "True"
      ]
     },
     "execution_count": 257,
     "metadata": {},
     "output_type": "execute_result"
    }
   ],
   "source": [
    "year_pair(timepoint) == touchstone_year"
   ]
  },
  {
   "cell_type": "markdown",
   "id": "16cd8637-9385-4a41-90de-7a1cf70d5a7d",
   "metadata": {},
   "source": [
    "#### Test it\n",
    "\n",
    "by finding power pairs for random years and checking against published table like <a href=\"https://en.wikipedia.org/wiki/Sexagenary_cycle#1924%E2%80%932043\">this one</a>"
   ]
  },
  {
   "cell_type": "code",
   "execution_count": 258,
   "id": "1b087a97-2e95-403c-a4e6-36d49fcbcfe0",
   "metadata": {},
   "outputs": [],
   "source": [
    "from random import randint, sample"
   ]
  },
  {
   "cell_type": "code",
   "execution_count": 259,
   "id": "1cb964e0-7aaa-466b-8ddd-16f789e86536",
   "metadata": {},
   "outputs": [],
   "source": [
    "def test_year(year):\n",
    "    data=dict(touchstone_params)\n",
    "    data['year'] = year\n",
    "    timepoint = dt.datetime(*(data.values()))\n",
    "    print(year, year_pair(timepoint))"
   ]
  },
  {
   "cell_type": "code",
   "execution_count": 260,
   "id": "17ac22c9-ee7a-479c-ac32-57f145638fad",
   "metadata": {},
   "outputs": [
    {
     "name": "stdout",
     "output_type": "stream",
     "text": [
      "1928 戊辰\n"
     ]
    }
   ],
   "source": [
    "year = randint(1924, 2043)\n",
    "test_year(year)"
   ]
  },
  {
   "cell_type": "code",
   "execution_count": 261,
   "id": "8481769e-05da-487a-b6ff-0dc3224bb46f",
   "metadata": {},
   "outputs": [
    {
     "name": "stdout",
     "output_type": "stream",
     "text": [
      "2034 甲寅\n",
      "1991 辛未\n",
      "2007 丁亥\n",
      "2031 辛亥\n",
      "1983 癸亥\n",
      "1929 己巳\n",
      "1970 庚戌\n",
      "1975 乙卯\n",
      "2038 戊午\n",
      "1944 甲申\n",
      "1946 丙戌\n",
      "1997 丁丑\n",
      "1990 庚午\n",
      "2033 癸丑\n",
      "1968 戊申\n",
      "2021 辛丑\n",
      "1925 乙丑\n"
     ]
    }
   ],
   "source": [
    "years = sample(range(1924, 2044), 17)\n",
    "for year in years:\n",
    "    test_year(year)"
   ]
  },
  {
   "cell_type": "code",
   "execution_count": 262,
   "id": "e078f3e8-f19c-4a11-9725-47370c37f3c2",
   "metadata": {},
   "outputs": [
    {
     "data": {
      "text/plain": [
       "({'year': 1982, 'month': 6, 'day': 29, 'hour': 13, 'minute': 40},\n",
       " datetime.datetime(1982, 6, 29, 13, 40))"
      ]
     },
     "execution_count": 262,
     "metadata": {},
     "output_type": "execute_result"
    }
   ],
   "source": [
    "# making sure that initial reference data remains intact\n",
    "touchstone_params, timepoint"
   ]
  },
  {
   "cell_type": "markdown",
   "id": "d662c82b-c64b-4941-8e53-9c7a182c9fd0",
   "metadata": {},
   "source": [
    "### Month"
   ]
  },
  {
   "cell_type": "code",
   "execution_count": 263,
   "id": "eeed595e-d997-4e58-9f2c-0362a3ad44ac",
   "metadata": {},
   "outputs": [],
   "source": [
    "def month_pair(timepoint):\n",
    "    month_delta = (timepoint.year - RoSo.year) * 12 + (timepoint.month - RoSo.month)\n",
    "    index = zero_month + (month_delta % 60 - int((zero_month + month_delta % 60) > 59) * 60)  # automatically -60 if goes out of range\n",
    "    pair = pairs[index]\n",
    "    return pair"
   ]
  },
  {
   "cell_type": "markdown",
   "id": "1fb59c80-2aa7-4da0-848b-1d7cd9c834a4",
   "metadata": {},
   "source": [
    "Check on touchstone"
   ]
  },
  {
   "cell_type": "code",
   "execution_count": 264,
   "id": "6d381089-a321-4161-b291-7c56a29e685c",
   "metadata": {},
   "outputs": [
    {
     "data": {
      "text/plain": [
       "'丙午'"
      ]
     },
     "execution_count": 264,
     "metadata": {},
     "output_type": "execute_result"
    }
   ],
   "source": [
    "month_pair(timepoint)"
   ]
  },
  {
   "cell_type": "code",
   "execution_count": 265,
   "id": "f208cc8e-c112-453c-8a47-845e28d2ff38",
   "metadata": {},
   "outputs": [
    {
     "data": {
      "text/plain": [
       "True"
      ]
     },
     "execution_count": 265,
     "metadata": {},
     "output_type": "execute_result"
    }
   ],
   "source": [
    "month_pair(timepoint) == touchstone_month"
   ]
  },
  {
   "cell_type": "markdown",
   "id": "38b7bc0b-6136-4e56-80e4-738266b0fdbf",
   "metadata": {},
   "source": [
    "Check on another duang"
   ]
  },
  {
   "cell_type": "code",
   "execution_count": 266,
   "id": "9ce117e9-2e1a-435c-a087-9766fb0e5f85",
   "metadata": {},
   "outputs": [
    {
     "data": {
      "text/plain": [
       "datetime.datetime(1982, 1, 12, 0, 0)"
      ]
     },
     "execution_count": 266,
     "metadata": {},
     "output_type": "execute_result"
    }
   ],
   "source": [
    "boss = dt.datetime(2525-543, 1, 12)\n",
    "boss"
   ]
  },
  {
   "cell_type": "code",
   "execution_count": 267,
   "id": "a42799cc-c6ec-4875-a59f-50057cbfe490",
   "metadata": {},
   "outputs": [
    {
     "data": {
      "text/plain": [
       "'辛丑'"
      ]
     },
     "execution_count": 267,
     "metadata": {},
     "output_type": "execute_result"
    }
   ],
   "source": [
    "month_pair(boss)"
   ]
  },
  {
   "cell_type": "code",
   "execution_count": 268,
   "id": "4733b857-c802-4e04-93f5-613aae3f8ffd",
   "metadata": {},
   "outputs": [
    {
     "data": {
      "text/plain": [
       "'1982-01-12 00:00:00'"
      ]
     },
     "execution_count": 268,
     "metadata": {},
     "output_type": "execute_result"
    }
   ],
   "source": [
    "str(boss)"
   ]
  },
  {
   "cell_type": "markdown",
   "id": "9faf2f77-35d7-4d12-86da-cf82fda6e32e",
   "metadata": {},
   "source": [
    "### Day"
   ]
  },
  {
   "cell_type": "code",
   "execution_count": 269,
   "id": "19e1295a-8599-4ca3-9d26-232014a94296",
   "metadata": {},
   "outputs": [],
   "source": [
    "def day_pair(timepoint):\n",
    "    day_delta = (timepoint.date() - RoSo.date()).days  # taking only date to eliminate the shifting effect of the non-zero Rattanakosin zero TIME\n",
    "    index = zero_day + (day_delta % 60 - int((zero_day + day_delta % 60) > 59) * 60)  # automatically -60 if goes out of range\n",
    "    pair = pairs[index]\n",
    "    return pair"
   ]
  },
  {
   "cell_type": "code",
   "execution_count": 270,
   "id": "5f4a316f-cf6f-458d-be5e-28a6a95d3148",
   "metadata": {},
   "outputs": [],
   "source": [
    "##### debugga\n",
    "# def day_pair(timepoint):\n",
    "#     day_delta = (timepoint.date() - RoSo.date()).days\n",
    "#     print(day_delta)\n",
    "#     index = zero_day + day_delta % 60\n",
    "#     print(index)\n",
    "#     if index > 59:  # automatically -60 if goes out of range\n",
    "#         index-=60\n",
    "#         print(index)    \n",
    "#     pair = pairs[index]\n",
    "#     return pair"
   ]
  },
  {
   "cell_type": "code",
   "execution_count": 271,
   "id": "80de00c5-7cb5-4054-be35-b7f51e18444a",
   "metadata": {},
   "outputs": [],
   "source": [
    "def all_pairs(datetime):  # only three as yet, no yarm\n",
    "    return year_pair(datetime), month_pair(datetime), day_pair(datetime)"
   ]
  },
  {
   "cell_type": "markdown",
   "id": "b2e38737-c774-4463-b4f8-ca2f551720a3",
   "metadata": {},
   "source": [
    "Check on the touchstone"
   ]
  },
  {
   "cell_type": "code",
   "execution_count": 272,
   "id": "22b29dad-ef85-42fa-9818-46098e119d61",
   "metadata": {},
   "outputs": [
    {
     "data": {
      "text/plain": [
       "('壬戌', '丙午', '癸未')"
      ]
     },
     "execution_count": 272,
     "metadata": {},
     "output_type": "execute_result"
    }
   ],
   "source": [
    "all_pairs(timepoint)"
   ]
  },
  {
   "cell_type": "code",
   "execution_count": 273,
   "id": "c7bf8e2e-682d-42bb-9e9e-cd4812abb130",
   "metadata": {},
   "outputs": [
    {
     "data": {
      "text/plain": [
       "True"
      ]
     },
     "execution_count": 273,
     "metadata": {},
     "output_type": "execute_result"
    }
   ],
   "source": [
    "all_pairs(timepoint) == (touchstone_year, touchstone_month, touchstone_day)"
   ]
  },
  {
   "cell_type": "markdown",
   "id": "6b02dbad-6f29-403b-aa11-bab04980babc",
   "metadata": {},
   "source": [
    "Check on another duang"
   ]
  },
  {
   "cell_type": "code",
   "execution_count": 274,
   "id": "4e9490ef-9b70-44d3-bc99-9e866b11ff70",
   "metadata": {},
   "outputs": [
    {
     "data": {
      "text/plain": [
       "'乙未'"
      ]
     },
     "execution_count": 274,
     "metadata": {},
     "output_type": "execute_result"
    }
   ],
   "source": [
    "boss_day = '乙未'\n",
    "day_pair(boss)"
   ]
  },
  {
   "cell_type": "code",
   "execution_count": 275,
   "id": "140e6a1f-44d9-42b8-8043-b56eaff4093a",
   "metadata": {},
   "outputs": [
    {
     "data": {
      "text/plain": [
       "True"
      ]
     },
     "execution_count": 275,
     "metadata": {},
     "output_type": "execute_result"
    }
   ],
   "source": [
    "day_pair(boss) == boss_day"
   ]
  },
  {
   "cell_type": "markdown",
   "id": "9af23a9d-6d3e-48a8-b2a7-67ca04c1478e",
   "metadata": {},
   "source": [
    "Check everything on yet another duang2.png"
   ]
  },
  {
   "cell_type": "code",
   "execution_count": 276,
   "id": "c808ed6d-c436-473b-aef3-bf7107936f95",
   "metadata": {},
   "outputs": [
    {
     "data": {
      "text/plain": [
       "datetime.datetime(1955, 10, 28, 22, 0)"
      ]
     },
     "execution_count": 276,
     "metadata": {},
     "output_type": "execute_result"
    }
   ],
   "source": [
    "duang2 = dt.datetime(2498-543, 10, 28, 22, 0)\n",
    "duang2"
   ]
  },
  {
   "cell_type": "code",
   "execution_count": 277,
   "id": "bb856eea-3078-4bb9-b440-e6e88ea4cb56",
   "metadata": {},
   "outputs": [],
   "source": [
    "duang2_year, duang2_month, duang2_day, duang2_yarm = '乙未', '丙戌', '壬戌', '辛亥'"
   ]
  },
  {
   "cell_type": "code",
   "execution_count": 278,
   "id": "b7cecc4a-2d12-4c9e-bfd9-986b4112bf1c",
   "metadata": {},
   "outputs": [
    {
     "data": {
      "text/plain": [
       "('乙未', '丙戌', '壬戌')"
      ]
     },
     "execution_count": 278,
     "metadata": {},
     "output_type": "execute_result"
    }
   ],
   "source": [
    "all_pairs(duang2)"
   ]
  },
  {
   "cell_type": "code",
   "execution_count": 279,
   "id": "427ceda9-94fe-4f85-aa26-3e4777e57024",
   "metadata": {},
   "outputs": [
    {
     "data": {
      "text/plain": [
       "True"
      ]
     },
     "execution_count": 279,
     "metadata": {},
     "output_type": "execute_result"
    }
   ],
   "source": [
    "all_pairs(duang2) == (duang2_year, duang2_month, duang2_day)"
   ]
  },
  {
   "cell_type": "markdown",
   "id": "5edd3e78-a946-4314-8829-428f49c2e8a6",
   "metadata": {},
   "source": [
    "Check everything on yet another duang3.png. Date for this duang extracted from public source outside of the scope of Master Mas publications."
   ]
  },
  {
   "cell_type": "code",
   "execution_count": 280,
   "id": "97db6960-b2b0-437b-b9dc-3f4f04d87d6f",
   "metadata": {},
   "outputs": [
    {
     "data": {
      "text/plain": [
       "datetime.datetime(1947, 7, 15, 0, 0)"
      ]
     },
     "execution_count": 280,
     "metadata": {},
     "output_type": "execute_result"
    }
   ],
   "source": [
    "duang3 = dt.datetime(2490-543, 7, 15)\n",
    "duang3"
   ]
  },
  {
   "cell_type": "code",
   "execution_count": 281,
   "id": "9fd5ba1c-e92e-4468-8e1e-f9de8db33f93",
   "metadata": {},
   "outputs": [],
   "source": [
    "duang3_year, duang3_month, duang3_day, duang3_yarm = '丁亥', '丁未', '乙未', '壬午'"
   ]
  },
  {
   "cell_type": "code",
   "execution_count": 282,
   "id": "294ec132-8be0-4c7b-bd73-a9620ebdc8de",
   "metadata": {},
   "outputs": [
    {
     "data": {
      "text/plain": [
       "('丁亥', '丁未', '乙未')"
      ]
     },
     "execution_count": 282,
     "metadata": {},
     "output_type": "execute_result"
    }
   ],
   "source": [
    "all_pairs(duang3)"
   ]
  },
  {
   "cell_type": "code",
   "execution_count": 283,
   "id": "e43716d2-4993-441e-9a77-82b1a582c516",
   "metadata": {},
   "outputs": [
    {
     "data": {
      "text/plain": [
       "True"
      ]
     },
     "execution_count": 283,
     "metadata": {},
     "output_type": "execute_result"
    }
   ],
   "source": [
    "all_pairs(duang3) == (duang3_year, duang3_month, duang3_day)"
   ]
  },
  {
   "cell_type": "code",
   "execution_count": null,
   "id": "04bc29e2-a7a8-4ad6-bb4a-f12871e76428",
   "metadata": {},
   "outputs": [],
   "source": []
  }
 ],
 "metadata": {
  "kernelspec": {
   "display_name": "Python 3 (ipykernel)",
   "language": "python",
   "name": "python3"
  },
  "language_info": {
   "codemirror_mode": {
    "name": "ipython",
    "version": 3
   },
   "file_extension": ".py",
   "mimetype": "text/x-python",
   "name": "python",
   "nbconvert_exporter": "python",
   "pygments_lexer": "ipython3",
   "version": "3.9.7"
  }
 },
 "nbformat": 4,
 "nbformat_minor": 5
}
